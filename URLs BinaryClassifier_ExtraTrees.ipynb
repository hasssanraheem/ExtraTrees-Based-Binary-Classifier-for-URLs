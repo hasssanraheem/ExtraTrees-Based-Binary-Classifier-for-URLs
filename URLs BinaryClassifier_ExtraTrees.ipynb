{
  "cells": [
    {
      "cell_type": "markdown",
      "metadata": {
        "id": "rHFn-t4hOBtB"
      },
      "source": [
        "# **Libraries**"
      ]
    },
    {
      "cell_type": "code",
      "execution_count": null,
      "metadata": {
        "id": "a68N0ATtOGmc"
      },
      "outputs": [],
      "source": [
        "import pandas as pd\n",
        "import numpy as np\n",
        "import re\n",
        "from urllib.parse import urlparse\n",
        "from scipy.sparse import hstack\n",
        "from sklearn.feature_extraction.text import TfidfVectorizer\n",
        "from sklearn.preprocessing import OneHotEncoder\n",
        "from sklearn.model_selection import train_test_split\n",
        "from sklearn.ensemble import RandomForestClassifier\n",
        "from sklearn.metrics import confusion_matrix, accuracy_score"
      ]
    },
    {
      "cell_type": "markdown",
      "metadata": {
        "id": "wJDE_aJcOJ3u"
      },
      "source": [
        "# **# Pre-Processing Functions:**"
      ]
    },
    {
      "cell_type": "code",
      "source": [
        "!pip install tldextract\n",
        "# Add this import at the top of your file\n",
        "import tldextract\n",
        "\n",
        "# ---------- Helper functions for normalization ----------\n",
        "def _ensure_scheme(url: str) -> str:\n",
        "    \"\"\"Ensure URL has a scheme so urlparse can find netloc.\"\"\"\n",
        "    url = url.strip()\n",
        "    if not re.match(r'^[a-zA-Z]+://', url):\n",
        "        return 'http://' + url\n",
        "    return url\n",
        "\n",
        "def get_registered_domain(url: str) -> str:\n",
        "    \"\"\"\n",
        "    Return the registered domain (e.g. 'google.com', 'example.co.uk').\n",
        "    Falls back to the host (without www) if tldextract can't determine suffix.\n",
        "    \"\"\"\n",
        "    url_with_scheme = _ensure_scheme(url)\n",
        "    parsed = urlparse(url_with_scheme)\n",
        "    host = parsed.netloc.split(':')[0].lower()  # remove port if present\n",
        "    host_no_www = host[4:] if host.startswith('www.') else host\n",
        "\n",
        "    try:\n",
        "        ext = tldextract.extract(url_with_scheme)\n",
        "        if ext.domain and ext.suffix:\n",
        "            return f\"{ext.domain}.{ext.suffix}\".lower()\n",
        "    except Exception:\n",
        "        # If tldextract fails (e.g., no internet to fetch suffix list), fallback\n",
        "        pass\n",
        "\n",
        "    return host_no_www\n",
        "\n",
        "def get_host(url: str) -> str:\n",
        "    \"\"\"Return the exact host without port (e.g. 'mail.google.com' or 'google.com').\"\"\"\n",
        "    url_with_scheme = _ensure_scheme(url)\n",
        "    parsed = urlparse(url_with_scheme)\n",
        "    host = parsed.netloc.split(':')[0].lower()\n",
        "    return host\n",
        "\n",
        "# ---------- Whitelist normalization ----------\n",
        "# keep your original raw whitelist entries here (can be host or just domain)\n",
        "whitelist_raw = [\n",
        "    # — Global / Popular International Websites\n",
        "    \"google.com\", \"gmail.com\", \"youtube.com\", \"facebook.com\",\n",
        "    \"twitter.com\", \"instagram.com\", \"linkedin.com\", \"wikipedia.org\",\n",
        "    \"github.com\", \"stackoverflow.com\", \"reddit.com\", \"quora.com\",\n",
        "    \"amazon.com\", \"amazon.co.uk\", \"apple.com\", \"microsoft.com\",\n",
        "    \"netflix.com\", \"wikipedia.org\", \"bing.com\", \"whatsapp.com\",\n",
        "    \"dropbox.com\", \"zoom.us\", \"paypal.com\", \"ebay.com\",\n",
        "\n",
        "    # — Pakistani Government & Official Portals\n",
        "    \"gov.pk\", \"nadra.gov.pk\", \"fbr.gov.pk\", \"election.gov.pk\",\n",
        "    \"nadra.gov.pk\", \"pesb.gov.pk\", \"ophrd.gov.pk\", \"hec.gov.pk\",\n",
        "    \"passport.gov.pk\", \"telenor.com.pk\", \"ptcl.com.pk\", \"ptic.org.pk\",\n",
        "    \"epay.gov.pk\", \"ntec.gov.pk\", \"kp.gov.pk\",\n",
        "\n",
        "    # — Pakistani Academic & University Domains\n",
        "    \"comsats.edu.pk\", \"fast.edu.pk\", \"lums.edu.pk\", \"uok.edu.pk\",\n",
        "    \"su.edu.pk\", \"punjab.gov.pk\", \"karachi.edu.pk\", \"gcuf.edu.pk\",\n",
        "    \"nu.edu.pk\", \"uaf.edu.pk\", \"puanman.gov.pk\", \"qu.edu.pk\",\n",
        "    \"smiu.edu.pk\", \"baqai.edu.pk\", \"iobm.edu.pk\", \"lhr.edu.pk\",\n",
        "    \"qau.edu.pk\", \"cue.edu.pk\", \"iiu.edu.pk\", \"nu.edu.pk\",\n",
        "\n",
        "    # — Pakistani News & Media\n",
        "    \"dawn.com\", \"geo.tv\", \"tribune.com.pk\", \"express.com.pk\", \"thenews.com.pk\",\n",
        "    \"jang.com.pk\", \"nawaiwaqt.com.pk\", \"urdupoint.com\", \"arynews.tv\",\n",
        "    \"aa.com.tr\", \"bbc.com (Pakistan section)\",  # global\n",
        "    \"pakistantoday.com.pk\", \"nation.com.pk\", \"business-standard.com\",\n",
        "    \"gulftoday.ae\", \"pakobserver.net\", \"pkhope.com\", \"hipin.com.pk\",\n",
        "    \"techjuice.pk\",\n",
        "\n",
        "    # — Pakistani Banks & Financial Services\n",
        "    \"hbl.com\", \"mcb.com.pk\", \"sc.com.pk\", \"albaraka banks.com.pk\",\n",
        "    \"bankalfalah.com\", \"jsbl.com\", \"cf.com.pk\", \"askari bank.com.pk\",\n",
        "    \"jubileebank.com.pk\", \"alhamratrustbank.com\", \"nrbcommercialbank.com\",\n",
        "    \"sbbal.net\", \"bbacash.com\", \"sbl.com.pk\",\n",
        "\n",
        "    # — Pakistani Telecommunications & ISPs\n",
        "    \"ptcl.com.pk\", \"telenor.com.pk\", \"jazz.com.pk\", \"zong.com.pk\",\n",
        "    \"ufone.com.pk\", \"stormfiber.com\", \"transworld.com.pk\", \"multinet.com.pk\",\n",
        "    \"optic.com.pk\", \"comsats.net.pk\",\n",
        "\n",
        "    # — Pakistani E-Commerce and Classifieds\n",
        "    \"daraz.pk\", \"olx.com.pk\", \"pakwheels.com\", \"zameen.com\",\n",
        "    \"rentrelo.com\", \"foodpanda.pk\", \"bykea.com\", \"groceryone.pk\",\n",
        "    \"yayvo.com\", \"symbios.pk\", \"homeshopping.pk\", \"telemart.pk\",\n",
        "\n",
        "    # — Pakistani Government News & Public Service\n",
        "    \"psc.gov.pk\", \"secp.gov.pk\", \"ptiv.gov.pk\", \"nea.gov.pk\",\n",
        "    \"ppra.org.pk\", \"nadra.gov.pk\", \"naf.gov.pk\", \"fpo.gov.pk\",\n",
        "\n",
        "    # — Pakistani Health & Public Sector (COVID, Health, etc.)\n",
        "    \"health.gov.pk\", \"nhsrc.gov.pk\", \"iedcr.gov.pk\", \"nicvd.org\",\n",
        "    \"nhs.gov.pk\", \"police.gov.pk\", \"lahorepolice.gov.pk\", \"punjabpolice.gov.pk\",\n",
        "\n",
        "    # — Streaming & Entertainment (Pakistani)\n",
        "    \"pixflix.com\", \"pakfilms.net\", \"pakmag.net\", \"ptv.com.pk\",\n",
        "    \"urduflix.com\", \"arydigital.tv\",\n",
        "\n",
        "    # — Additional Noteworthy Domains (span various Pakistani sectors)\n",
        "    \"pak-telecom.net\", \"paki.org\", \"studentsportal.edu.pk\", \"labour.gov.pk\",\n",
        "    \"imranpk.com\", \"pakistan.gov.pk\", \"sindh.gov.pk\", \"sindheducation.gov.pk\",\n",
        "    \"wasa.gov.pk\", \"lic.pak\", \"kennations.com\", \"citizenportal.gov.pk\"\n",
        "]\n",
        "\n",
        "\n",
        "# Normalize into two sets:\n",
        "# 1) whitelist_domains contains registered domains (google.com, example.co.uk)\n",
        "# 2) whitelist_hosts contains exact hosts (mail.google.com) — useful if you want to whitelist a specific subdomain only\n",
        "whitelist_domains = set(get_registered_domain(w) for w in whitelist_raw)\n",
        "whitelist_hosts = set(get_host(w) for w in whitelist_raw)\n",
        "\n",
        "# ---------- The new is_whitelisted function (replace the old one) ----------\n",
        "def is_whitelisted(url: str) -> bool:\n",
        "    \"\"\"Return True if url (any form) matches whitelist domain or exact host.\"\"\"\n",
        "    host = get_host(url)\n",
        "    reg = get_registered_domain(url)\n",
        "    return (reg in whitelist_domains) or (host in whitelist_hosts)"
      ],
      "metadata": {
        "colab": {
          "base_uri": "https://localhost:8080/"
        },
        "id": "jXkDr6EaQdA4",
        "outputId": "af0a1887-80ff-4ab1-aaee-1c3187cae857"
      },
      "execution_count": null,
      "outputs": [
        {
          "output_type": "stream",
          "name": "stdout",
          "text": [
            "Requirement already satisfied: tldextract in /usr/local/lib/python3.12/dist-packages (5.3.0)\n",
            "Requirement already satisfied: idna in /usr/local/lib/python3.12/dist-packages (from tldextract) (3.10)\n",
            "Requirement already satisfied: requests>=2.1.0 in /usr/local/lib/python3.12/dist-packages (from tldextract) (2.32.4)\n",
            "Requirement already satisfied: requests-file>=1.4 in /usr/local/lib/python3.12/dist-packages (from tldextract) (2.1.0)\n",
            "Requirement already satisfied: filelock>=3.0.8 in /usr/local/lib/python3.12/dist-packages (from tldextract) (3.19.1)\n",
            "Requirement already satisfied: charset_normalizer<4,>=2 in /usr/local/lib/python3.12/dist-packages (from requests>=2.1.0->tldextract) (3.4.3)\n",
            "Requirement already satisfied: urllib3<3,>=1.21.1 in /usr/local/lib/python3.12/dist-packages (from requests>=2.1.0->tldextract) (2.5.0)\n",
            "Requirement already satisfied: certifi>=2017.4.17 in /usr/local/lib/python3.12/dist-packages (from requests>=2.1.0->tldextract) (2025.8.3)\n"
          ]
        }
      ]
    },
    {
      "cell_type": "code",
      "execution_count": null,
      "metadata": {
        "id": "8htTRt1ZONy2"
      },
      "outputs": [],
      "source": [
        "def preprocess_url(url: str) -> str:\n",
        "    \"\"\"Clean and normalize URL string.\"\"\"\n",
        "    url = str(url).lower()\n",
        "    return re.sub(r'https?://(www\\.)?', '', url)\n",
        "\n",
        "\n",
        "def extract_features(url: str) -> dict:\n",
        "    \"\"\"Extract handcrafted features from a URL.\"\"\"\n",
        "    parsed = urlparse(url)\n",
        "    return {\n",
        "        \"url_length\": len(url),\n",
        "        \"num_digits\": sum(c.isdigit() for c in url),\n",
        "        \"num_dots\": url.count('.'),\n",
        "        \"num_slashes\": url.count('/'),\n",
        "        \"has_https\": int(url.startswith(\"https\")),\n",
        "        \"has_login\": int(\"login\" in url),\n",
        "        \"tld\": parsed.netloc.split('.')[-1] if parsed.netloc else \"\"\n",
        "    }\n"
      ]
    },
    {
      "cell_type": "markdown",
      "metadata": {
        "id": "mJQIl3ddPhj7"
      },
      "source": [
        "# **Merging Two datasets**"
      ]
    },
    {
      "cell_type": "markdown",
      "metadata": {
        "id": "6A_8BxXuOioN"
      },
      "source": [
        "# **Importing Datasets and Applying Functions**"
      ]
    },
    {
      "cell_type": "code",
      "execution_count": null,
      "metadata": {
        "id": "0iOmkictOn1n"
      },
      "outputs": [],
      "source": [
        "train_df = pd.read_csv(\"train.csv\")\n",
        "X_raw = train_df.iloc[:, 0].values  # URLs\n",
        "y_raw = train_df.iloc[:, 1].values  # Labels\n",
        "\n",
        "# Preprocess URLs\n",
        "urls_clean = [preprocess_url(u) for u in X_raw]\n",
        "\n",
        "# TF-IDF Vectorization\n",
        "vectorizer = TfidfVectorizer(\n",
        "    analyzer=\"char_wb\",   # character n-grams (good for URLs)\n",
        "    ngram_range=(3, 5),   # 3–5 character chunks\n",
        "    max_features=20000    # cap feature size\n",
        ")\n",
        "X_text = vectorizer.fit_transform(urls_clean)\n",
        "\n",
        "# Extract handcrafted features\n",
        "df_features = pd.DataFrame([extract_features(u) for u in urls_clean])\n",
        "\n",
        "# One-hot encode TLD\n",
        "ohe_tld = OneHotEncoder(handle_unknown=\"ignore\")\n",
        "X_tld = ohe_tld.fit_transform(df_features[[\"tld\"]])\n",
        "\n",
        "# Combine numeric features (drop TLD column after encoding)\n",
        "X_num = df_features.drop(columns=[\"tld\"]).values\n",
        "\n",
        "# Final combined feature matrix\n",
        "X_final = hstack([X_text, X_num, X_tld])"
      ]
    },
    {
      "cell_type": "markdown",
      "metadata": {
        "id": "K8sA4j8SOwVW"
      },
      "source": [
        "# **Encoding Target Variable**"
      ]
    },
    {
      "cell_type": "code",
      "execution_count": null,
      "metadata": {
        "id": "Vck7Qf8xO0pA"
      },
      "outputs": [],
      "source": [
        "ohe_y = OneHotEncoder(sparse_output=False, handle_unknown=\"ignore\")\n",
        "y_encoded = ohe_y.fit_transform(y_raw.reshape(-1, 1))\n",
        "from sklearn.preprocessing import LabelEncoder\n"
      ]
    },
    {
      "cell_type": "markdown",
      "metadata": {
        "id": "3NYJ2MypO5-e"
      },
      "source": [
        "\\# ** Train/Test Split **"
      ]
    },
    {
      "cell_type": "code",
      "execution_count": null,
      "metadata": {
        "id": "c41T0GU3O9xI"
      },
      "outputs": [],
      "source": [
        "\n",
        "X_train, X_test, y_train, y_test = train_test_split(\n",
        "    X_final, y_encoded, test_size=0.2, random_state=42\n",
        ")"
      ]
    },
    {
      "cell_type": "markdown",
      "metadata": {
        "id": "8gsb-Xgp3Cdv"
      },
      "source": [
        "# **Model Training**"
      ]
    },
    {
      "cell_type": "code",
      "execution_count": null,
      "metadata": {
        "colab": {
          "base_uri": "https://localhost:8080/",
          "height": 80
        },
        "id": "H_00Ahyt3Hdu",
        "outputId": "c9b60ffb-9bc1-4e04-a2e4-b27f5859094a"
      },
      "outputs": [
        {
          "output_type": "execute_result",
          "data": {
            "text/plain": [
              "RandomForestClassifier(class_weight='balanced', n_jobs=-1, random_state=42)"
            ],
            "text/html": [
              "<style>#sk-container-id-1 {\n",
              "  /* Definition of color scheme common for light and dark mode */\n",
              "  --sklearn-color-text: #000;\n",
              "  --sklearn-color-text-muted: #666;\n",
              "  --sklearn-color-line: gray;\n",
              "  /* Definition of color scheme for unfitted estimators */\n",
              "  --sklearn-color-unfitted-level-0: #fff5e6;\n",
              "  --sklearn-color-unfitted-level-1: #f6e4d2;\n",
              "  --sklearn-color-unfitted-level-2: #ffe0b3;\n",
              "  --sklearn-color-unfitted-level-3: chocolate;\n",
              "  /* Definition of color scheme for fitted estimators */\n",
              "  --sklearn-color-fitted-level-0: #f0f8ff;\n",
              "  --sklearn-color-fitted-level-1: #d4ebff;\n",
              "  --sklearn-color-fitted-level-2: #b3dbfd;\n",
              "  --sklearn-color-fitted-level-3: cornflowerblue;\n",
              "\n",
              "  /* Specific color for light theme */\n",
              "  --sklearn-color-text-on-default-background: var(--sg-text-color, var(--theme-code-foreground, var(--jp-content-font-color1, black)));\n",
              "  --sklearn-color-background: var(--sg-background-color, var(--theme-background, var(--jp-layout-color0, white)));\n",
              "  --sklearn-color-border-box: var(--sg-text-color, var(--theme-code-foreground, var(--jp-content-font-color1, black)));\n",
              "  --sklearn-color-icon: #696969;\n",
              "\n",
              "  @media (prefers-color-scheme: dark) {\n",
              "    /* Redefinition of color scheme for dark theme */\n",
              "    --sklearn-color-text-on-default-background: var(--sg-text-color, var(--theme-code-foreground, var(--jp-content-font-color1, white)));\n",
              "    --sklearn-color-background: var(--sg-background-color, var(--theme-background, var(--jp-layout-color0, #111)));\n",
              "    --sklearn-color-border-box: var(--sg-text-color, var(--theme-code-foreground, var(--jp-content-font-color1, white)));\n",
              "    --sklearn-color-icon: #878787;\n",
              "  }\n",
              "}\n",
              "\n",
              "#sk-container-id-1 {\n",
              "  color: var(--sklearn-color-text);\n",
              "}\n",
              "\n",
              "#sk-container-id-1 pre {\n",
              "  padding: 0;\n",
              "}\n",
              "\n",
              "#sk-container-id-1 input.sk-hidden--visually {\n",
              "  border: 0;\n",
              "  clip: rect(1px 1px 1px 1px);\n",
              "  clip: rect(1px, 1px, 1px, 1px);\n",
              "  height: 1px;\n",
              "  margin: -1px;\n",
              "  overflow: hidden;\n",
              "  padding: 0;\n",
              "  position: absolute;\n",
              "  width: 1px;\n",
              "}\n",
              "\n",
              "#sk-container-id-1 div.sk-dashed-wrapped {\n",
              "  border: 1px dashed var(--sklearn-color-line);\n",
              "  margin: 0 0.4em 0.5em 0.4em;\n",
              "  box-sizing: border-box;\n",
              "  padding-bottom: 0.4em;\n",
              "  background-color: var(--sklearn-color-background);\n",
              "}\n",
              "\n",
              "#sk-container-id-1 div.sk-container {\n",
              "  /* jupyter's `normalize.less` sets `[hidden] { display: none; }`\n",
              "     but bootstrap.min.css set `[hidden] { display: none !important; }`\n",
              "     so we also need the `!important` here to be able to override the\n",
              "     default hidden behavior on the sphinx rendered scikit-learn.org.\n",
              "     See: https://github.com/scikit-learn/scikit-learn/issues/21755 */\n",
              "  display: inline-block !important;\n",
              "  position: relative;\n",
              "}\n",
              "\n",
              "#sk-container-id-1 div.sk-text-repr-fallback {\n",
              "  display: none;\n",
              "}\n",
              "\n",
              "div.sk-parallel-item,\n",
              "div.sk-serial,\n",
              "div.sk-item {\n",
              "  /* draw centered vertical line to link estimators */\n",
              "  background-image: linear-gradient(var(--sklearn-color-text-on-default-background), var(--sklearn-color-text-on-default-background));\n",
              "  background-size: 2px 100%;\n",
              "  background-repeat: no-repeat;\n",
              "  background-position: center center;\n",
              "}\n",
              "\n",
              "/* Parallel-specific style estimator block */\n",
              "\n",
              "#sk-container-id-1 div.sk-parallel-item::after {\n",
              "  content: \"\";\n",
              "  width: 100%;\n",
              "  border-bottom: 2px solid var(--sklearn-color-text-on-default-background);\n",
              "  flex-grow: 1;\n",
              "}\n",
              "\n",
              "#sk-container-id-1 div.sk-parallel {\n",
              "  display: flex;\n",
              "  align-items: stretch;\n",
              "  justify-content: center;\n",
              "  background-color: var(--sklearn-color-background);\n",
              "  position: relative;\n",
              "}\n",
              "\n",
              "#sk-container-id-1 div.sk-parallel-item {\n",
              "  display: flex;\n",
              "  flex-direction: column;\n",
              "}\n",
              "\n",
              "#sk-container-id-1 div.sk-parallel-item:first-child::after {\n",
              "  align-self: flex-end;\n",
              "  width: 50%;\n",
              "}\n",
              "\n",
              "#sk-container-id-1 div.sk-parallel-item:last-child::after {\n",
              "  align-self: flex-start;\n",
              "  width: 50%;\n",
              "}\n",
              "\n",
              "#sk-container-id-1 div.sk-parallel-item:only-child::after {\n",
              "  width: 0;\n",
              "}\n",
              "\n",
              "/* Serial-specific style estimator block */\n",
              "\n",
              "#sk-container-id-1 div.sk-serial {\n",
              "  display: flex;\n",
              "  flex-direction: column;\n",
              "  align-items: center;\n",
              "  background-color: var(--sklearn-color-background);\n",
              "  padding-right: 1em;\n",
              "  padding-left: 1em;\n",
              "}\n",
              "\n",
              "\n",
              "/* Toggleable style: style used for estimator/Pipeline/ColumnTransformer box that is\n",
              "clickable and can be expanded/collapsed.\n",
              "- Pipeline and ColumnTransformer use this feature and define the default style\n",
              "- Estimators will overwrite some part of the style using the `sk-estimator` class\n",
              "*/\n",
              "\n",
              "/* Pipeline and ColumnTransformer style (default) */\n",
              "\n",
              "#sk-container-id-1 div.sk-toggleable {\n",
              "  /* Default theme specific background. It is overwritten whether we have a\n",
              "  specific estimator or a Pipeline/ColumnTransformer */\n",
              "  background-color: var(--sklearn-color-background);\n",
              "}\n",
              "\n",
              "/* Toggleable label */\n",
              "#sk-container-id-1 label.sk-toggleable__label {\n",
              "  cursor: pointer;\n",
              "  display: flex;\n",
              "  width: 100%;\n",
              "  margin-bottom: 0;\n",
              "  padding: 0.5em;\n",
              "  box-sizing: border-box;\n",
              "  text-align: center;\n",
              "  align-items: start;\n",
              "  justify-content: space-between;\n",
              "  gap: 0.5em;\n",
              "}\n",
              "\n",
              "#sk-container-id-1 label.sk-toggleable__label .caption {\n",
              "  font-size: 0.6rem;\n",
              "  font-weight: lighter;\n",
              "  color: var(--sklearn-color-text-muted);\n",
              "}\n",
              "\n",
              "#sk-container-id-1 label.sk-toggleable__label-arrow:before {\n",
              "  /* Arrow on the left of the label */\n",
              "  content: \"▸\";\n",
              "  float: left;\n",
              "  margin-right: 0.25em;\n",
              "  color: var(--sklearn-color-icon);\n",
              "}\n",
              "\n",
              "#sk-container-id-1 label.sk-toggleable__label-arrow:hover:before {\n",
              "  color: var(--sklearn-color-text);\n",
              "}\n",
              "\n",
              "/* Toggleable content - dropdown */\n",
              "\n",
              "#sk-container-id-1 div.sk-toggleable__content {\n",
              "  max-height: 0;\n",
              "  max-width: 0;\n",
              "  overflow: hidden;\n",
              "  text-align: left;\n",
              "  /* unfitted */\n",
              "  background-color: var(--sklearn-color-unfitted-level-0);\n",
              "}\n",
              "\n",
              "#sk-container-id-1 div.sk-toggleable__content.fitted {\n",
              "  /* fitted */\n",
              "  background-color: var(--sklearn-color-fitted-level-0);\n",
              "}\n",
              "\n",
              "#sk-container-id-1 div.sk-toggleable__content pre {\n",
              "  margin: 0.2em;\n",
              "  border-radius: 0.25em;\n",
              "  color: var(--sklearn-color-text);\n",
              "  /* unfitted */\n",
              "  background-color: var(--sklearn-color-unfitted-level-0);\n",
              "}\n",
              "\n",
              "#sk-container-id-1 div.sk-toggleable__content.fitted pre {\n",
              "  /* unfitted */\n",
              "  background-color: var(--sklearn-color-fitted-level-0);\n",
              "}\n",
              "\n",
              "#sk-container-id-1 input.sk-toggleable__control:checked~div.sk-toggleable__content {\n",
              "  /* Expand drop-down */\n",
              "  max-height: 200px;\n",
              "  max-width: 100%;\n",
              "  overflow: auto;\n",
              "}\n",
              "\n",
              "#sk-container-id-1 input.sk-toggleable__control:checked~label.sk-toggleable__label-arrow:before {\n",
              "  content: \"▾\";\n",
              "}\n",
              "\n",
              "/* Pipeline/ColumnTransformer-specific style */\n",
              "\n",
              "#sk-container-id-1 div.sk-label input.sk-toggleable__control:checked~label.sk-toggleable__label {\n",
              "  color: var(--sklearn-color-text);\n",
              "  background-color: var(--sklearn-color-unfitted-level-2);\n",
              "}\n",
              "\n",
              "#sk-container-id-1 div.sk-label.fitted input.sk-toggleable__control:checked~label.sk-toggleable__label {\n",
              "  background-color: var(--sklearn-color-fitted-level-2);\n",
              "}\n",
              "\n",
              "/* Estimator-specific style */\n",
              "\n",
              "/* Colorize estimator box */\n",
              "#sk-container-id-1 div.sk-estimator input.sk-toggleable__control:checked~label.sk-toggleable__label {\n",
              "  /* unfitted */\n",
              "  background-color: var(--sklearn-color-unfitted-level-2);\n",
              "}\n",
              "\n",
              "#sk-container-id-1 div.sk-estimator.fitted input.sk-toggleable__control:checked~label.sk-toggleable__label {\n",
              "  /* fitted */\n",
              "  background-color: var(--sklearn-color-fitted-level-2);\n",
              "}\n",
              "\n",
              "#sk-container-id-1 div.sk-label label.sk-toggleable__label,\n",
              "#sk-container-id-1 div.sk-label label {\n",
              "  /* The background is the default theme color */\n",
              "  color: var(--sklearn-color-text-on-default-background);\n",
              "}\n",
              "\n",
              "/* On hover, darken the color of the background */\n",
              "#sk-container-id-1 div.sk-label:hover label.sk-toggleable__label {\n",
              "  color: var(--sklearn-color-text);\n",
              "  background-color: var(--sklearn-color-unfitted-level-2);\n",
              "}\n",
              "\n",
              "/* Label box, darken color on hover, fitted */\n",
              "#sk-container-id-1 div.sk-label.fitted:hover label.sk-toggleable__label.fitted {\n",
              "  color: var(--sklearn-color-text);\n",
              "  background-color: var(--sklearn-color-fitted-level-2);\n",
              "}\n",
              "\n",
              "/* Estimator label */\n",
              "\n",
              "#sk-container-id-1 div.sk-label label {\n",
              "  font-family: monospace;\n",
              "  font-weight: bold;\n",
              "  display: inline-block;\n",
              "  line-height: 1.2em;\n",
              "}\n",
              "\n",
              "#sk-container-id-1 div.sk-label-container {\n",
              "  text-align: center;\n",
              "}\n",
              "\n",
              "/* Estimator-specific */\n",
              "#sk-container-id-1 div.sk-estimator {\n",
              "  font-family: monospace;\n",
              "  border: 1px dotted var(--sklearn-color-border-box);\n",
              "  border-radius: 0.25em;\n",
              "  box-sizing: border-box;\n",
              "  margin-bottom: 0.5em;\n",
              "  /* unfitted */\n",
              "  background-color: var(--sklearn-color-unfitted-level-0);\n",
              "}\n",
              "\n",
              "#sk-container-id-1 div.sk-estimator.fitted {\n",
              "  /* fitted */\n",
              "  background-color: var(--sklearn-color-fitted-level-0);\n",
              "}\n",
              "\n",
              "/* on hover */\n",
              "#sk-container-id-1 div.sk-estimator:hover {\n",
              "  /* unfitted */\n",
              "  background-color: var(--sklearn-color-unfitted-level-2);\n",
              "}\n",
              "\n",
              "#sk-container-id-1 div.sk-estimator.fitted:hover {\n",
              "  /* fitted */\n",
              "  background-color: var(--sklearn-color-fitted-level-2);\n",
              "}\n",
              "\n",
              "/* Specification for estimator info (e.g. \"i\" and \"?\") */\n",
              "\n",
              "/* Common style for \"i\" and \"?\" */\n",
              "\n",
              ".sk-estimator-doc-link,\n",
              "a:link.sk-estimator-doc-link,\n",
              "a:visited.sk-estimator-doc-link {\n",
              "  float: right;\n",
              "  font-size: smaller;\n",
              "  line-height: 1em;\n",
              "  font-family: monospace;\n",
              "  background-color: var(--sklearn-color-background);\n",
              "  border-radius: 1em;\n",
              "  height: 1em;\n",
              "  width: 1em;\n",
              "  text-decoration: none !important;\n",
              "  margin-left: 0.5em;\n",
              "  text-align: center;\n",
              "  /* unfitted */\n",
              "  border: var(--sklearn-color-unfitted-level-1) 1pt solid;\n",
              "  color: var(--sklearn-color-unfitted-level-1);\n",
              "}\n",
              "\n",
              ".sk-estimator-doc-link.fitted,\n",
              "a:link.sk-estimator-doc-link.fitted,\n",
              "a:visited.sk-estimator-doc-link.fitted {\n",
              "  /* fitted */\n",
              "  border: var(--sklearn-color-fitted-level-1) 1pt solid;\n",
              "  color: var(--sklearn-color-fitted-level-1);\n",
              "}\n",
              "\n",
              "/* On hover */\n",
              "div.sk-estimator:hover .sk-estimator-doc-link:hover,\n",
              ".sk-estimator-doc-link:hover,\n",
              "div.sk-label-container:hover .sk-estimator-doc-link:hover,\n",
              ".sk-estimator-doc-link:hover {\n",
              "  /* unfitted */\n",
              "  background-color: var(--sklearn-color-unfitted-level-3);\n",
              "  color: var(--sklearn-color-background);\n",
              "  text-decoration: none;\n",
              "}\n",
              "\n",
              "div.sk-estimator.fitted:hover .sk-estimator-doc-link.fitted:hover,\n",
              ".sk-estimator-doc-link.fitted:hover,\n",
              "div.sk-label-container:hover .sk-estimator-doc-link.fitted:hover,\n",
              ".sk-estimator-doc-link.fitted:hover {\n",
              "  /* fitted */\n",
              "  background-color: var(--sklearn-color-fitted-level-3);\n",
              "  color: var(--sklearn-color-background);\n",
              "  text-decoration: none;\n",
              "}\n",
              "\n",
              "/* Span, style for the box shown on hovering the info icon */\n",
              ".sk-estimator-doc-link span {\n",
              "  display: none;\n",
              "  z-index: 9999;\n",
              "  position: relative;\n",
              "  font-weight: normal;\n",
              "  right: .2ex;\n",
              "  padding: .5ex;\n",
              "  margin: .5ex;\n",
              "  width: min-content;\n",
              "  min-width: 20ex;\n",
              "  max-width: 50ex;\n",
              "  color: var(--sklearn-color-text);\n",
              "  box-shadow: 2pt 2pt 4pt #999;\n",
              "  /* unfitted */\n",
              "  background: var(--sklearn-color-unfitted-level-0);\n",
              "  border: .5pt solid var(--sklearn-color-unfitted-level-3);\n",
              "}\n",
              "\n",
              ".sk-estimator-doc-link.fitted span {\n",
              "  /* fitted */\n",
              "  background: var(--sklearn-color-fitted-level-0);\n",
              "  border: var(--sklearn-color-fitted-level-3);\n",
              "}\n",
              "\n",
              ".sk-estimator-doc-link:hover span {\n",
              "  display: block;\n",
              "}\n",
              "\n",
              "/* \"?\"-specific style due to the `<a>` HTML tag */\n",
              "\n",
              "#sk-container-id-1 a.estimator_doc_link {\n",
              "  float: right;\n",
              "  font-size: 1rem;\n",
              "  line-height: 1em;\n",
              "  font-family: monospace;\n",
              "  background-color: var(--sklearn-color-background);\n",
              "  border-radius: 1rem;\n",
              "  height: 1rem;\n",
              "  width: 1rem;\n",
              "  text-decoration: none;\n",
              "  /* unfitted */\n",
              "  color: var(--sklearn-color-unfitted-level-1);\n",
              "  border: var(--sklearn-color-unfitted-level-1) 1pt solid;\n",
              "}\n",
              "\n",
              "#sk-container-id-1 a.estimator_doc_link.fitted {\n",
              "  /* fitted */\n",
              "  border: var(--sklearn-color-fitted-level-1) 1pt solid;\n",
              "  color: var(--sklearn-color-fitted-level-1);\n",
              "}\n",
              "\n",
              "/* On hover */\n",
              "#sk-container-id-1 a.estimator_doc_link:hover {\n",
              "  /* unfitted */\n",
              "  background-color: var(--sklearn-color-unfitted-level-3);\n",
              "  color: var(--sklearn-color-background);\n",
              "  text-decoration: none;\n",
              "}\n",
              "\n",
              "#sk-container-id-1 a.estimator_doc_link.fitted:hover {\n",
              "  /* fitted */\n",
              "  background-color: var(--sklearn-color-fitted-level-3);\n",
              "}\n",
              "</style><div id=\"sk-container-id-1\" class=\"sk-top-container\"><div class=\"sk-text-repr-fallback\"><pre>RandomForestClassifier(class_weight=&#x27;balanced&#x27;, n_jobs=-1, random_state=42)</pre><b>In a Jupyter environment, please rerun this cell to show the HTML representation or trust the notebook. <br />On GitHub, the HTML representation is unable to render, please try loading this page with nbviewer.org.</b></div><div class=\"sk-container\" hidden><div class=\"sk-item\"><div class=\"sk-estimator fitted sk-toggleable\"><input class=\"sk-toggleable__control sk-hidden--visually\" id=\"sk-estimator-id-1\" type=\"checkbox\" checked><label for=\"sk-estimator-id-1\" class=\"sk-toggleable__label fitted sk-toggleable__label-arrow\"><div><div>RandomForestClassifier</div></div><div><a class=\"sk-estimator-doc-link fitted\" rel=\"noreferrer\" target=\"_blank\" href=\"https://scikit-learn.org/1.6/modules/generated/sklearn.ensemble.RandomForestClassifier.html\">?<span>Documentation for RandomForestClassifier</span></a><span class=\"sk-estimator-doc-link fitted\">i<span>Fitted</span></span></div></label><div class=\"sk-toggleable__content fitted\"><pre>RandomForestClassifier(class_weight=&#x27;balanced&#x27;, n_jobs=-1, random_state=42)</pre></div> </div></div></div></div>"
            ]
          },
          "metadata": {},
          "execution_count": 7
        }
      ],
      "source": [
        "clf = RandomForestClassifier(\n",
        "    n_estimators=100,\n",
        "    criterion=\"gini\",\n",
        "    class_weight=\"balanced\",\n",
        "    n_jobs=-1,\n",
        "    random_state=42\n",
        ")\n",
        "clf.fit(X_train, y_train)"
      ]
    },
    {
      "cell_type": "markdown",
      "metadata": {
        "id": "6cUhUbgzPFJe"
      },
      "source": [
        "# **Evaluate on Validation Split**"
      ]
    },
    {
      "cell_type": "code",
      "execution_count": null,
      "metadata": {
        "colab": {
          "base_uri": "https://localhost:8080/"
        },
        "collapsed": true,
        "id": "8uzboCdcPG-E",
        "outputId": "6ef0e435-59c0-45ed-e912-6dee301c8f29"
      },
      "outputs": [
        {
          "output_type": "stream",
          "name": "stdout",
          "text": [
            "Validation Confusion Matrix:\n",
            " [[3376   48    2  187]\n",
            " [ 176 3402    0   10]\n",
            " [  55    1 3516  106]\n",
            " [ 504   39    8 3055]]\n",
            "Validation Accuracy: 0.9215740421125302\n"
          ]
        }
      ],
      "source": [
        "y_pred_encoded = clf.predict(X_test)\n",
        "# Predicted class index from one-hot encoding\n",
        "y_pred_indices = np.argmax(y_pred_encoded, axis=1)\n",
        "y_test_indices = np.argmax(y_test, axis=1)\n",
        "\n",
        "# Map indices back to original labels using encoder categories\n",
        "labels = ohe_y.categories_[0]\n",
        "y_pred_decoded = labels[y_pred_indices]\n",
        "y_test_decoded = labels[y_test_indices]\n",
        "\n",
        "# Confusion matrix & accuracy\n",
        "cm_val = confusion_matrix(y_test_decoded, y_pred_decoded)\n",
        "acc_val = accuracy_score(y_test_decoded, y_pred_decoded)\n",
        "\n",
        "print(\"Validation Confusion Matrix:\\n\", cm_val)\n",
        "print(\"Validation Accuracy:\", acc_val)\n"
      ]
    },
    {
      "cell_type": "markdown",
      "metadata": {
        "id": "9FGKiTuKPKKC"
      },
      "source": [
        "# **Test on External Test Dataset**"
      ]
    },
    {
      "cell_type": "code",
      "execution_count": null,
      "metadata": {
        "id": "ZstbGLnLPPEd"
      },
      "outputs": [],
      "source": [
        "test_df = pd.read_csv(\"test.csv\")\n",
        "test_urls = [preprocess_url(u) for u in test_df[\"url\"]]\n",
        "\n",
        "# Extract test features\n",
        "test_features = pd.DataFrame([extract_features(u) for u in test_urls])\n",
        "test_X_text = vectorizer.transform(test_urls)\n",
        "test_X_tld = ohe_tld.transform(test_features[[\"tld\"]])\n",
        "test_X_num = test_features.drop(columns=[\"tld\"]).values\n",
        "test_X_final = hstack([test_X_text, test_X_num, test_X_tld])\n"
      ]
    },
    {
      "cell_type": "markdown",
      "metadata": {
        "id": "GmyUZ6WxPYuD"
      },
      "source": [
        "# **Encode test labels using fitted encoder**"
      ]
    },
    {
      "cell_type": "code",
      "execution_count": null,
      "metadata": {
        "id": "WZslGtXXPcFz"
      },
      "outputs": [],
      "source": [
        "test_y_encoded = ohe_y.transform(test_df[\"type\"].values.reshape(-1, 1))"
      ]
    },
    {
      "cell_type": "markdown",
      "metadata": {
        "id": "yb8DW8zVPfHq"
      },
      "source": [
        "# **Predictions on test dataset and Accuracy Matrix**"
      ]
    },
    {
      "cell_type": "code",
      "execution_count": null,
      "metadata": {
        "colab": {
          "base_uri": "https://localhost:8080/"
        },
        "id": "xMsu-UpLPjUk",
        "outputId": "b7dac109-f16b-4945-b327-7c5690127d84"
      },
      "outputs": [
        {
          "output_type": "stream",
          "name": "stdout",
          "text": [
            "\n",
            "Test Confusion Matrix:\n",
            " [[2815   38    1  146]\n",
            " [ 138 2856    1    5]\n",
            " [  47    2 2862   89]\n",
            " [ 464   25    6 2505]]\n",
            "Test Accuracy: 0.9198333333333333\n"
          ]
        }
      ],
      "source": [
        "# Predictions (one-hot like outputs)\n",
        "test_y_pred_encoded = clf.predict(test_X_final)\n",
        "\n",
        "# Convert to class indices\n",
        "test_y_pred_indices = np.argmax(test_y_pred_encoded, axis=1)\n",
        "test_y_indices = np.argmax(test_y_encoded, axis=1)\n",
        "\n",
        "# Map indices back to labels\n",
        "labels = ohe_y.categories_[0]\n",
        "test_y_pred = labels[test_y_pred_indices]\n",
        "test_y_decoded = labels[test_y_indices]\n",
        "\n",
        "# Evaluate\n",
        "cm_test = confusion_matrix(test_y_decoded, test_y_pred)\n",
        "acc_test = accuracy_score(test_y_decoded, test_y_pred)\n",
        "\n",
        "print(\"\\nTest Confusion Matrix:\\n\", cm_test)\n",
        "print(\"Test Accuracy:\", acc_test)\n"
      ]
    },
    {
      "cell_type": "markdown",
      "metadata": {
        "id": "EMMZCTKSVxK2"
      },
      "source": [
        "# **Predicting Function for a Single URL**"
      ]
    },
    {
      "cell_type": "code",
      "execution_count": null,
      "metadata": {
        "id": "zvVZ-vg4V1nY"
      },
      "outputs": [],
      "source": [
        "def predict_single_url(url: str, clf, vectorizer, ohe_tld, ohe_y):\n",
        "    \"\"\"Predict the class of a single URL.\"\"\"\n",
        "    # 1. Preprocess\n",
        "    clean_url = preprocess_url(url)\n",
        "\n",
        "    # 2. Extract features\n",
        "    features = extract_features(clean_url)\n",
        "    df_feat = pd.DataFrame([features])\n",
        "\n",
        "    # 3. Transform with fitted encoders/vectorizer\n",
        "    X_text = vectorizer.transform([clean_url])\n",
        "    X_tld = ohe_tld.transform(df_feat[[\"tld\"]])\n",
        "    X_num = df_feat.drop(columns=[\"tld\"]).values\n",
        "\n",
        "    # 4. Combine\n",
        "    X_final = hstack([X_text, X_num, X_tld])\n",
        "\n",
        "    # 5. Predict\n",
        "    y_pred_encoded = clf.predict(X_final)\n",
        "    y_pred_index = np.argmax(y_pred_encoded, axis=1)\n",
        "    label = ohe_y.categories_[0][y_pred_index][0]\n",
        "\n",
        "    return label\n"
      ]
    },
    {
      "cell_type": "code",
      "source": [
        "def predict_single_url(url: str, clf, vectorizer, ohe_tld, ohe_y):\n",
        "    \"\"\"Predict the class of a single URL with whitelist check.\"\"\"\n",
        "\n",
        "    # 0. Whitelist check first\n",
        "    if is_whitelisted(url):\n",
        "        return \"benign\"\n",
        "\n",
        "    # 1. Preprocess\n",
        "    clean_url = preprocess_url(url)\n",
        "\n",
        "    # 2. Extract features\n",
        "    features = extract_features(clean_url)\n",
        "    df_feat = pd.DataFrame([features])\n",
        "\n",
        "    # 3. Transform with fitted encoders/vectorizer\n",
        "    X_text = vectorizer.transform([clean_url])\n",
        "    X_tld = ohe_tld.transform(df_feat[[\"tld\"]])\n",
        "    X_num = df_feat.drop(columns=[\"tld\"]).values\n",
        "\n",
        "    # 4. Combine\n",
        "    X_final = hstack([X_text, X_num, X_tld])\n",
        "\n",
        "    # 5. Predict\n",
        "    y_pred_encoded = clf.predict(X_final)\n",
        "    y_pred_index = np.argmax(y_pred_encoded, axis=1)\n",
        "    label = ohe_y.categories_[0][y_pred_index][0]\n",
        "\n",
        "    return label\n"
      ],
      "metadata": {
        "id": "Oq_-dqrFONOw"
      },
      "execution_count": null,
      "outputs": []
    },
    {
      "cell_type": "markdown",
      "metadata": {
        "id": "q83KB1K9V-QK"
      },
      "source": [
        "# **Predicting a new URL**"
      ]
    },
    {
      "cell_type": "code",
      "execution_count": null,
      "metadata": {
        "colab": {
          "base_uri": "https://localhost:8080/",
          "height": 176
        },
        "id": "swq6gtu2WTbo",
        "outputId": "c41a98f2-69fb-43c1-b741-83ee4932c19b"
      },
      "outputs": [
        {
          "output_type": "error",
          "ename": "NameError",
          "evalue": "name 'predict_single_url' is not defined",
          "traceback": [
            "\u001b[0;31m---------------------------------------------------------------------------\u001b[0m",
            "\u001b[0;31mNameError\u001b[0m                                 Traceback (most recent call last)",
            "\u001b[0;32m/tmp/ipython-input-4073776730.py\u001b[0m in \u001b[0;36m<cell line: 0>\u001b[0;34m()\u001b[0m\n\u001b[1;32m      1\u001b[0m \u001b[0msample_url\u001b[0m \u001b[0;34m=\u001b[0m \u001b[0;34m\"quickfacts.census.gov/qfd/maps/iowa_map.html\"\u001b[0m\u001b[0;34m\u001b[0m\u001b[0;34m\u001b[0m\u001b[0m\n\u001b[0;32m----> 2\u001b[0;31m \u001b[0mprediction\u001b[0m \u001b[0;34m=\u001b[0m \u001b[0mpredict_single_url\u001b[0m\u001b[0;34m(\u001b[0m\u001b[0msample_url\u001b[0m\u001b[0;34m,\u001b[0m \u001b[0mclf\u001b[0m\u001b[0;34m,\u001b[0m \u001b[0mvectorizer\u001b[0m\u001b[0;34m,\u001b[0m \u001b[0mohe_tld\u001b[0m\u001b[0;34m,\u001b[0m \u001b[0mohe_y\u001b[0m\u001b[0;34m)\u001b[0m\u001b[0;34m\u001b[0m\u001b[0;34m\u001b[0m\u001b[0m\n\u001b[0m\u001b[1;32m      3\u001b[0m \u001b[0mprint\u001b[0m\u001b[0;34m(\u001b[0m\u001b[0;34m\"Predicted class:\"\u001b[0m\u001b[0;34m,\u001b[0m \u001b[0mprediction\u001b[0m\u001b[0;34m)\u001b[0m\u001b[0;34m\u001b[0m\u001b[0;34m\u001b[0m\u001b[0m\n",
            "\u001b[0;31mNameError\u001b[0m: name 'predict_single_url' is not defined"
          ]
        }
      ],
      "source": [
        "sample_url = \"quickfacts.census.gov/qfd/maps/iowa_map.html\"\n",
        "prediction = predict_single_url(sample_url, clf, vectorizer, ohe_tld, ohe_y)\n",
        "print(\"Predicted class:\", prediction)\n"
      ]
    }
  ],
  "metadata": {
    "colab": {
      "provenance": []
    },
    "kernelspec": {
      "display_name": "Python 3",
      "name": "python3"
    },
    "language_info": {
      "name": "python"
    }
  },
  "nbformat": 4,
  "nbformat_minor": 0
}